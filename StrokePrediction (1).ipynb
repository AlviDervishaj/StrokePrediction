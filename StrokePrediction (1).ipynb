{
  "cells": [
    {
      "cell_type": "markdown",
      "metadata": {
        "id": "irRxS2uA7ora"
      },
      "source": [
        "### Import Libraries"
      ]
    },
    {
      "cell_type": "code",
      "execution_count": 2,
      "metadata": {
        "colab": {
          "base_uri": "https://localhost:8080/"
        },
        "id": "x2I4_uoc4pts",
        "outputId": "fcc460c9-3725-41da-b8a8-bb10778fbaa1"
      },
      "outputs": [
        {
          "name": "stdout",
          "output_type": "stream",
          "text": [
            "Requirement already satisfied: pywaffle in ./env/lib/python3.11/site-packages (1.1.0)\n",
            "Requirement already satisfied: pandas in ./env/lib/python3.11/site-packages (2.1.4)\n",
            "Requirement already satisfied: matplotlib in ./env/lib/python3.11/site-packages (3.8.2)\n",
            "Requirement already satisfied: seaborn in ./env/lib/python3.11/site-packages (0.13.1)\n",
            "Requirement already satisfied: tensorflow in ./env/lib/python3.11/site-packages (2.15.0.post1)\n",
            "Requirement already satisfied: keras in ./env/lib/python3.11/site-packages (2.15.0)\n",
            "Collecting sklearn\n",
            "  Downloading sklearn-0.0.post12.tar.gz (2.6 kB)\n",
            "  Preparing metadata (setup.py) ... \u001b[?25lerror\n",
            "  \u001b[1;31merror\u001b[0m: \u001b[1msubprocess-exited-with-error\u001b[0m\n",
            "  \n",
            "  \u001b[31m×\u001b[0m \u001b[32mpython setup.py egg_info\u001b[0m did not run successfully.\n",
            "  \u001b[31m│\u001b[0m exit code: \u001b[1;36m1\u001b[0m\n",
            "  \u001b[31m╰─>\u001b[0m \u001b[31m[15 lines of output]\u001b[0m\n",
            "  \u001b[31m   \u001b[0m The 'sklearn' PyPI package is deprecated, use 'scikit-learn'\n",
            "  \u001b[31m   \u001b[0m rather than 'sklearn' for pip commands.\n",
            "  \u001b[31m   \u001b[0m \n",
            "  \u001b[31m   \u001b[0m Here is how to fix this error in the main use cases:\n",
            "  \u001b[31m   \u001b[0m - use 'pip install scikit-learn' rather than 'pip install sklearn'\n",
            "  \u001b[31m   \u001b[0m - replace 'sklearn' by 'scikit-learn' in your pip requirements files\n",
            "  \u001b[31m   \u001b[0m   (requirements.txt, setup.py, setup.cfg, Pipfile, etc ...)\n",
            "  \u001b[31m   \u001b[0m - if the 'sklearn' package is used by one of your dependencies,\n",
            "  \u001b[31m   \u001b[0m   it would be great if you take some time to track which package uses\n",
            "  \u001b[31m   \u001b[0m   'sklearn' instead of 'scikit-learn' and report it to their issue tracker\n",
            "  \u001b[31m   \u001b[0m - as a last resort, set the environment variable\n",
            "  \u001b[31m   \u001b[0m   SKLEARN_ALLOW_DEPRECATED_SKLEARN_PACKAGE_INSTALL=True to avoid this error\n",
            "  \u001b[31m   \u001b[0m \n",
            "  \u001b[31m   \u001b[0m More information is available at\n",
            "  \u001b[31m   \u001b[0m https://github.com/scikit-learn/sklearn-pypi-package\n",
            "  \u001b[31m   \u001b[0m \u001b[31m[end of output]\u001b[0m\n",
            "  \n",
            "  \u001b[1;35mnote\u001b[0m: This error originates from a subprocess, and is likely not a problem with pip.\n",
            "\u001b[?25h\u001b[1;31merror\u001b[0m: \u001b[1mmetadata-generation-failed\u001b[0m\n",
            "\n",
            "\u001b[31m×\u001b[0m Encountered error while generating package metadata.\n",
            "\u001b[31m╰─>\u001b[0m See above for output.\n",
            "\n",
            "\u001b[1;35mnote\u001b[0m: This is an issue with the package mentioned above, not pip.\n",
            "\u001b[1;36mhint\u001b[0m: See above for details.\n",
            "\n",
            "\u001b[1m[\u001b[0m\u001b[34;49mnotice\u001b[0m\u001b[1;39;49m]\u001b[0m\u001b[39;49m A new release of pip is available: \u001b[0m\u001b[31;49m23.0.1\u001b[0m\u001b[39;49m -> \u001b[0m\u001b[32;49m23.3.2\u001b[0m\n",
            "\u001b[1m[\u001b[0m\u001b[34;49mnotice\u001b[0m\u001b[1;39;49m]\u001b[0m\u001b[39;49m To update, run: \u001b[0m\u001b[32;49mpython -m pip install --upgrade pip\u001b[0m\n",
            "Note: you may need to restart the kernel to use updated packages.\n"
          ]
        }
      ],
      "source": [
        "%pip install pywaffle pandas matplotlib seaborn tensorflow keras scikit-learn "
      ]
    },
    {
      "cell_type": "code",
      "execution_count": 1,
      "metadata": {
        "id": "pCwmLQiM4QRt"
      },
      "outputs": [
        {
          "ename": "ModuleNotFoundError",
          "evalue": "No module named 'sklearn'",
          "output_type": "error",
          "traceback": [
            "\u001b[0;31m---------------------------------------------------------------------------\u001b[0m",
            "\u001b[0;31mModuleNotFoundError\u001b[0m                       Traceback (most recent call last)",
            "Cell \u001b[0;32mIn[1], line 9\u001b[0m\n\u001b[1;32m      6\u001b[0m \u001b[38;5;28;01mimport\u001b[39;00m \u001b[38;5;21;01mseaborn\u001b[39;00m \u001b[38;5;28;01mas\u001b[39;00m \u001b[38;5;21;01msns\u001b[39;00m \u001b[38;5;66;03m#data viz\u001b[39;00m\n\u001b[1;32m      8\u001b[0m \u001b[38;5;28;01mfrom\u001b[39;00m \u001b[38;5;21;01mpywaffle\u001b[39;00m \u001b[38;5;28;01mimport\u001b[39;00m Waffle \u001b[38;5;66;03m#data viz\u001b[39;00m\n\u001b[0;32m----> 9\u001b[0m \u001b[38;5;28;01mfrom\u001b[39;00m \u001b[38;5;21;01msklearn\u001b[39;00m\u001b[38;5;21;01m.\u001b[39;00m\u001b[38;5;21;01mcompose\u001b[39;00m \u001b[38;5;28;01mimport\u001b[39;00m ColumnTransformer \u001b[38;5;66;03m#data preprocessing\u001b[39;00m\n\u001b[1;32m     10\u001b[0m \u001b[38;5;28;01mfrom\u001b[39;00m \u001b[38;5;21;01msklearn\u001b[39;00m\u001b[38;5;21;01m.\u001b[39;00m\u001b[38;5;21;01mpreprocessing\u001b[39;00m \u001b[38;5;28;01mimport\u001b[39;00m OneHotEncoder, StandardScaler \u001b[38;5;66;03m#data preprocessing\u001b[39;00m\n\u001b[1;32m     11\u001b[0m \u001b[38;5;28;01mfrom\u001b[39;00m \u001b[38;5;21;01msklearn\u001b[39;00m\u001b[38;5;21;01m.\u001b[39;00m\u001b[38;5;21;01mimpute\u001b[39;00m \u001b[38;5;28;01mimport\u001b[39;00m KNNImputer \u001b[38;5;66;03m#handle missing values\u001b[39;00m\n",
            "\u001b[0;31mModuleNotFoundError\u001b[0m: No module named 'sklearn'"
          ]
        }
      ],
      "source": [
        "#import libraries\n",
        "import numpy as np # linear algebra\n",
        "import pandas as pd # data processing\n",
        "import matplotlib.pyplot as plt #data viz\n",
        "from matplotlib.gridspec import GridSpec #data viz\n",
        "import seaborn as sns #data viz\n",
        "\n",
        "from pywaffle import Waffle #data viz\n",
        "from sklearn.compose import ColumnTransformer #data preprocessing\n",
        "from sklearn.preprocessing import OneHotEncoder, StandardScaler #data preprocessing\n",
        "from sklearn.impute import KNNImputer #handle missing values\n",
        "from imblearn.over_sampling import SMOTE #balance classes\n",
        "from sklearn.model_selection import train_test_split #train/test dataset\n",
        "from sklearn.svm import SVC\n",
        "from sklearn.ensemble import RandomForestClassifier\n",
        "from tensorflow.keras import layers, models #neural network architecture\n",
        "from tensorflow.keras.callbacks import EarlyStopping #regularization\n",
        "from tensorflow import keras #keras\n",
        "import tensorflow as tf #tensorflow\n",
        "from sklearn.metrics import accuracy_score, recall_score ,precision_score, f1_score, classification_report, confusion_matrix#evaluate model"
      ]
    },
    {
      "cell_type": "markdown",
      "metadata": {
        "id": "EAWTkoFj8KZZ"
      },
      "source": [
        "### Read Dataset"
      ]
    },
    {
      "cell_type": "code",
      "execution_count": 49,
      "metadata": {
        "colab": {
          "base_uri": "https://localhost:8080/",
          "height": 255
        },
        "id": "RqIjVEK25jaS",
        "outputId": "1a949e63-53dd-4e72-8ff9-4896e7641968"
      },
      "outputs": [
        {
          "name": "stdout",
          "output_type": "stream",
          "text": [
            "Drive already mounted at /content/drive; to attempt to forcibly remount, call drive.mount(\"/content/drive\", force_remount=True).\n"
          ]
        },
        {
          "data": {
            "text/html": [
              "\n",
              "  <div id=\"df-8025f50e-fbaf-43fa-9264-edbc0f2f0b7c\" class=\"colab-df-container\">\n",
              "    <div>\n",
              "<style scoped>\n",
              "    .dataframe tbody tr th:only-of-type {\n",
              "        vertical-align: middle;\n",
              "    }\n",
              "\n",
              "    .dataframe tbody tr th {\n",
              "        vertical-align: top;\n",
              "    }\n",
              "\n",
              "    .dataframe thead th {\n",
              "        text-align: right;\n",
              "    }\n",
              "</style>\n",
              "<table border=\"1\" class=\"dataframe\">\n",
              "  <thead>\n",
              "    <tr style=\"text-align: right;\">\n",
              "      <th></th>\n",
              "      <th>gender</th>\n",
              "      <th>age</th>\n",
              "      <th>hypertension</th>\n",
              "      <th>heart_disease</th>\n",
              "      <th>ever_married</th>\n",
              "      <th>work_type</th>\n",
              "      <th>Residence_type</th>\n",
              "      <th>avg_glucose_level</th>\n",
              "      <th>bmi</th>\n",
              "      <th>smoking_status</th>\n",
              "      <th>stroke</th>\n",
              "    </tr>\n",
              "    <tr>\n",
              "      <th>id</th>\n",
              "      <th></th>\n",
              "      <th></th>\n",
              "      <th></th>\n",
              "      <th></th>\n",
              "      <th></th>\n",
              "      <th></th>\n",
              "      <th></th>\n",
              "      <th></th>\n",
              "      <th></th>\n",
              "      <th></th>\n",
              "      <th></th>\n",
              "    </tr>\n",
              "  </thead>\n",
              "  <tbody>\n",
              "    <tr>\n",
              "      <th>9046</th>\n",
              "      <td>Male</td>\n",
              "      <td>67.0</td>\n",
              "      <td>0</td>\n",
              "      <td>1</td>\n",
              "      <td>Yes</td>\n",
              "      <td>Private</td>\n",
              "      <td>Urban</td>\n",
              "      <td>228.69</td>\n",
              "      <td>36.6</td>\n",
              "      <td>formerly smoked</td>\n",
              "      <td>1</td>\n",
              "    </tr>\n",
              "    <tr>\n",
              "      <th>51676</th>\n",
              "      <td>Female</td>\n",
              "      <td>61.0</td>\n",
              "      <td>0</td>\n",
              "      <td>0</td>\n",
              "      <td>Yes</td>\n",
              "      <td>Self-employed</td>\n",
              "      <td>Rural</td>\n",
              "      <td>202.21</td>\n",
              "      <td>NaN</td>\n",
              "      <td>never smoked</td>\n",
              "      <td>1</td>\n",
              "    </tr>\n",
              "    <tr>\n",
              "      <th>31112</th>\n",
              "      <td>Male</td>\n",
              "      <td>80.0</td>\n",
              "      <td>0</td>\n",
              "      <td>1</td>\n",
              "      <td>Yes</td>\n",
              "      <td>Private</td>\n",
              "      <td>Rural</td>\n",
              "      <td>105.92</td>\n",
              "      <td>32.5</td>\n",
              "      <td>never smoked</td>\n",
              "      <td>1</td>\n",
              "    </tr>\n",
              "    <tr>\n",
              "      <th>60182</th>\n",
              "      <td>Female</td>\n",
              "      <td>49.0</td>\n",
              "      <td>0</td>\n",
              "      <td>0</td>\n",
              "      <td>Yes</td>\n",
              "      <td>Private</td>\n",
              "      <td>Urban</td>\n",
              "      <td>171.23</td>\n",
              "      <td>34.4</td>\n",
              "      <td>smokes</td>\n",
              "      <td>1</td>\n",
              "    </tr>\n",
              "    <tr>\n",
              "      <th>1665</th>\n",
              "      <td>Female</td>\n",
              "      <td>79.0</td>\n",
              "      <td>1</td>\n",
              "      <td>0</td>\n",
              "      <td>Yes</td>\n",
              "      <td>Self-employed</td>\n",
              "      <td>Rural</td>\n",
              "      <td>174.12</td>\n",
              "      <td>24.0</td>\n",
              "      <td>never smoked</td>\n",
              "      <td>1</td>\n",
              "    </tr>\n",
              "  </tbody>\n",
              "</table>\n",
              "</div>\n",
              "    <div class=\"colab-df-buttons\">\n",
              "\n",
              "  <div class=\"colab-df-container\">\n",
              "    <button class=\"colab-df-convert\" onclick=\"convertToInteractive('df-8025f50e-fbaf-43fa-9264-edbc0f2f0b7c')\"\n",
              "            title=\"Convert this dataframe to an interactive table.\"\n",
              "            style=\"display:none;\">\n",
              "\n",
              "  <svg xmlns=\"http://www.w3.org/2000/svg\" height=\"24px\" viewBox=\"0 -960 960 960\">\n",
              "    <path d=\"M120-120v-720h720v720H120Zm60-500h600v-160H180v160Zm220 220h160v-160H400v160Zm0 220h160v-160H400v160ZM180-400h160v-160H180v160Zm440 0h160v-160H620v160ZM180-180h160v-160H180v160Zm440 0h160v-160H620v160Z\"/>\n",
              "  </svg>\n",
              "    </button>\n",
              "\n",
              "  <style>\n",
              "    .colab-df-container {\n",
              "      display:flex;\n",
              "      gap: 12px;\n",
              "    }\n",
              "\n",
              "    .colab-df-convert {\n",
              "      background-color: #E8F0FE;\n",
              "      border: none;\n",
              "      border-radius: 50%;\n",
              "      cursor: pointer;\n",
              "      display: none;\n",
              "      fill: #1967D2;\n",
              "      height: 32px;\n",
              "      padding: 0 0 0 0;\n",
              "      width: 32px;\n",
              "    }\n",
              "\n",
              "    .colab-df-convert:hover {\n",
              "      background-color: #E2EBFA;\n",
              "      box-shadow: 0px 1px 2px rgba(60, 64, 67, 0.3), 0px 1px 3px 1px rgba(60, 64, 67, 0.15);\n",
              "      fill: #174EA6;\n",
              "    }\n",
              "\n",
              "    .colab-df-buttons div {\n",
              "      margin-bottom: 4px;\n",
              "    }\n",
              "\n",
              "    [theme=dark] .colab-df-convert {\n",
              "      background-color: #3B4455;\n",
              "      fill: #D2E3FC;\n",
              "    }\n",
              "\n",
              "    [theme=dark] .colab-df-convert:hover {\n",
              "      background-color: #434B5C;\n",
              "      box-shadow: 0px 1px 3px 1px rgba(0, 0, 0, 0.15);\n",
              "      filter: drop-shadow(0px 1px 2px rgba(0, 0, 0, 0.3));\n",
              "      fill: #FFFFFF;\n",
              "    }\n",
              "  </style>\n",
              "\n",
              "    <script>\n",
              "      const buttonEl =\n",
              "        document.querySelector('#df-8025f50e-fbaf-43fa-9264-edbc0f2f0b7c button.colab-df-convert');\n",
              "      buttonEl.style.display =\n",
              "        google.colab.kernel.accessAllowed ? 'block' : 'none';\n",
              "\n",
              "      async function convertToInteractive(key) {\n",
              "        const element = document.querySelector('#df-8025f50e-fbaf-43fa-9264-edbc0f2f0b7c');\n",
              "        const dataTable =\n",
              "          await google.colab.kernel.invokeFunction('convertToInteractive',\n",
              "                                                    [key], {});\n",
              "        if (!dataTable) return;\n",
              "\n",
              "        const docLinkHtml = 'Like what you see? Visit the ' +\n",
              "          '<a target=\"_blank\" href=https://colab.research.google.com/notebooks/data_table.ipynb>data table notebook</a>'\n",
              "          + ' to learn more about interactive tables.';\n",
              "        element.innerHTML = '';\n",
              "        dataTable['output_type'] = 'display_data';\n",
              "        await google.colab.output.renderOutput(dataTable, element);\n",
              "        const docLink = document.createElement('div');\n",
              "        docLink.innerHTML = docLinkHtml;\n",
              "        element.appendChild(docLink);\n",
              "      }\n",
              "    </script>\n",
              "  </div>\n",
              "\n",
              "\n",
              "<div id=\"df-8c90d2d3-604b-4790-9b2a-0bbe07c4a8b6\">\n",
              "  <button class=\"colab-df-quickchart\" onclick=\"quickchart('df-8c90d2d3-604b-4790-9b2a-0bbe07c4a8b6')\"\n",
              "            title=\"Suggest charts\"\n",
              "            style=\"display:none;\">\n",
              "\n",
              "<svg xmlns=\"http://www.w3.org/2000/svg\" height=\"24px\"viewBox=\"0 0 24 24\"\n",
              "     width=\"24px\">\n",
              "    <g>\n",
              "        <path d=\"M19 3H5c-1.1 0-2 .9-2 2v14c0 1.1.9 2 2 2h14c1.1 0 2-.9 2-2V5c0-1.1-.9-2-2-2zM9 17H7v-7h2v7zm4 0h-2V7h2v10zm4 0h-2v-4h2v4z\"/>\n",
              "    </g>\n",
              "</svg>\n",
              "  </button>\n",
              "\n",
              "<style>\n",
              "  .colab-df-quickchart {\n",
              "      --bg-color: #E8F0FE;\n",
              "      --fill-color: #1967D2;\n",
              "      --hover-bg-color: #E2EBFA;\n",
              "      --hover-fill-color: #174EA6;\n",
              "      --disabled-fill-color: #AAA;\n",
              "      --disabled-bg-color: #DDD;\n",
              "  }\n",
              "\n",
              "  [theme=dark] .colab-df-quickchart {\n",
              "      --bg-color: #3B4455;\n",
              "      --fill-color: #D2E3FC;\n",
              "      --hover-bg-color: #434B5C;\n",
              "      --hover-fill-color: #FFFFFF;\n",
              "      --disabled-bg-color: #3B4455;\n",
              "      --disabled-fill-color: #666;\n",
              "  }\n",
              "\n",
              "  .colab-df-quickchart {\n",
              "    background-color: var(--bg-color);\n",
              "    border: none;\n",
              "    border-radius: 50%;\n",
              "    cursor: pointer;\n",
              "    display: none;\n",
              "    fill: var(--fill-color);\n",
              "    height: 32px;\n",
              "    padding: 0;\n",
              "    width: 32px;\n",
              "  }\n",
              "\n",
              "  .colab-df-quickchart:hover {\n",
              "    background-color: var(--hover-bg-color);\n",
              "    box-shadow: 0 1px 2px rgba(60, 64, 67, 0.3), 0 1px 3px 1px rgba(60, 64, 67, 0.15);\n",
              "    fill: var(--button-hover-fill-color);\n",
              "  }\n",
              "\n",
              "  .colab-df-quickchart-complete:disabled,\n",
              "  .colab-df-quickchart-complete:disabled:hover {\n",
              "    background-color: var(--disabled-bg-color);\n",
              "    fill: var(--disabled-fill-color);\n",
              "    box-shadow: none;\n",
              "  }\n",
              "\n",
              "  .colab-df-spinner {\n",
              "    border: 2px solid var(--fill-color);\n",
              "    border-color: transparent;\n",
              "    border-bottom-color: var(--fill-color);\n",
              "    animation:\n",
              "      spin 1s steps(1) infinite;\n",
              "  }\n",
              "\n",
              "  @keyframes spin {\n",
              "    0% {\n",
              "      border-color: transparent;\n",
              "      border-bottom-color: var(--fill-color);\n",
              "      border-left-color: var(--fill-color);\n",
              "    }\n",
              "    20% {\n",
              "      border-color: transparent;\n",
              "      border-left-color: var(--fill-color);\n",
              "      border-top-color: var(--fill-color);\n",
              "    }\n",
              "    30% {\n",
              "      border-color: transparent;\n",
              "      border-left-color: var(--fill-color);\n",
              "      border-top-color: var(--fill-color);\n",
              "      border-right-color: var(--fill-color);\n",
              "    }\n",
              "    40% {\n",
              "      border-color: transparent;\n",
              "      border-right-color: var(--fill-color);\n",
              "      border-top-color: var(--fill-color);\n",
              "    }\n",
              "    60% {\n",
              "      border-color: transparent;\n",
              "      border-right-color: var(--fill-color);\n",
              "    }\n",
              "    80% {\n",
              "      border-color: transparent;\n",
              "      border-right-color: var(--fill-color);\n",
              "      border-bottom-color: var(--fill-color);\n",
              "    }\n",
              "    90% {\n",
              "      border-color: transparent;\n",
              "      border-bottom-color: var(--fill-color);\n",
              "    }\n",
              "  }\n",
              "</style>\n",
              "\n",
              "  <script>\n",
              "    async function quickchart(key) {\n",
              "      const quickchartButtonEl =\n",
              "        document.querySelector('#' + key + ' button');\n",
              "      quickchartButtonEl.disabled = true;  // To prevent multiple clicks.\n",
              "      quickchartButtonEl.classList.add('colab-df-spinner');\n",
              "      try {\n",
              "        const charts = await google.colab.kernel.invokeFunction(\n",
              "            'suggestCharts', [key], {});\n",
              "      } catch (error) {\n",
              "        console.error('Error during call to suggestCharts:', error);\n",
              "      }\n",
              "      quickchartButtonEl.classList.remove('colab-df-spinner');\n",
              "      quickchartButtonEl.classList.add('colab-df-quickchart-complete');\n",
              "    }\n",
              "    (() => {\n",
              "      let quickchartButtonEl =\n",
              "        document.querySelector('#df-8c90d2d3-604b-4790-9b2a-0bbe07c4a8b6 button');\n",
              "      quickchartButtonEl.style.display =\n",
              "        google.colab.kernel.accessAllowed ? 'block' : 'none';\n",
              "    })();\n",
              "  </script>\n",
              "</div>\n",
              "    </div>\n",
              "  </div>\n"
            ],
            "text/plain": [
              "       gender   age  hypertension  heart_disease ever_married      work_type  \\\n",
              "id                                                                             \n",
              "9046     Male  67.0             0              1          Yes        Private   \n",
              "51676  Female  61.0             0              0          Yes  Self-employed   \n",
              "31112    Male  80.0             0              1          Yes        Private   \n",
              "60182  Female  49.0             0              0          Yes        Private   \n",
              "1665   Female  79.0             1              0          Yes  Self-employed   \n",
              "\n",
              "      Residence_type  avg_glucose_level   bmi   smoking_status  stroke  \n",
              "id                                                                      \n",
              "9046           Urban             228.69  36.6  formerly smoked       1  \n",
              "51676          Rural             202.21   NaN     never smoked       1  \n",
              "31112          Rural             105.92  32.5     never smoked       1  \n",
              "60182          Urban             171.23  34.4           smokes       1  \n",
              "1665           Rural             174.12  24.0     never smoked       1  "
            ]
          },
          "execution_count": 49,
          "metadata": {},
          "output_type": "execute_result"
        }
      ],
      "source": [
        "#Read In Dataset\n",
        "from google.colab import drive\n",
        "drive.mount('/content/drive')\n",
        "pd.set_option('display.max_columns', None)\n",
        "stroke_data = pd.read_csv('/content/drive/MyDrive/healthcare-dataset-stroke-data.csv', index_col='id')\n",
        "stroke_data.head()"
      ]
    },
    {
      "cell_type": "markdown",
      "metadata": {
        "id": "vpo3fh-p75G6"
      },
      "source": [
        "### Data Preprocessing"
      ]
    },
    {
      "cell_type": "code",
      "execution_count": 50,
      "metadata": {
        "colab": {
          "base_uri": "https://localhost:8080/"
        },
        "id": "YisMJkFs6KoQ",
        "outputId": "4d161472-4479-44b7-f7d9-a0f947b4e5ab"
      },
      "outputs": [
        {
          "name": "stdout",
          "output_type": "stream",
          "text": [
            "Example of Processed Data:\n",
            "[1.05143428 2.70637544 0.98721932 0.         1.         0.\n",
            " 0.         1.         0.         0.         1.         0.\n",
            " 0.         0.         1.         0.         1.         0.\n",
            " 0.         0.         1.        ]\n"
          ]
        }
      ],
      "source": [
        "#removes labels from dataset\n",
        "X, y = stroke_data.drop('stroke', axis=1).values, stroke_data['stroke'].values\n",
        "\n",
        "#Encodes catagoric variables\n",
        "cat_ix = [0, 4, 5, 6, 9] #index of catagoric variables\n",
        "cat_ct = ColumnTransformer([\n",
        "    ('cat_vars', OneHotEncoder(), cat_ix)\n",
        "], remainder='passthrough')\n",
        "X_encoded = cat_ct.fit_transform(X)\n",
        "\n",
        "#Impute missing values\n",
        "#create KNN imputer object\n",
        "knn_imp = KNNImputer(n_neighbors=5)\n",
        "X_imputed = knn_imp.fit_transform(X_encoded)\n",
        "\n",
        "#Scale Numeric Variables\n",
        "num_ix = [16, 19, 20] #index of numeric variables\n",
        "num_ct = ColumnTransformer([\n",
        "    ('num_vars', StandardScaler(), num_ix)\n",
        "], remainder='passthrough')\n",
        "X_scaled = num_ct.fit_transform(X_imputed)\n",
        "\n",
        "#displays scaled data\n",
        "print('Example of Processed Data:')\n",
        "print(X_scaled[0])"
      ]
    },
    {
      "cell_type": "code",
      "execution_count": 51,
      "metadata": {
        "colab": {
          "base_uri": "https://localhost:8080/"
        },
        "id": "lFgLlis56cWG",
        "outputId": "02964e05-76c8-4387-ff55-0643a169a304"
      },
      "outputs": [
        {
          "name": "stdout",
          "output_type": "stream",
          "text": [
            "Samples in Train Set: 3577\n",
            "Samples in Validation Set: 766\n",
            "Samples in Test Set: 767\n"
          ]
        }
      ],
      "source": [
        "#Splits the data into train, test, validate\n",
        "X_train, X_test, y_train, y_test = train_test_split(X_scaled, y, test_size=0.3, random_state=8)\n",
        "X_val, X_test, y_val, y_test = train_test_split(X_test, y_test, test_size=0.5, random_state=8)\n",
        "\n",
        "#displays the amount of samples in each dataset\n",
        "print('Samples in Train Set:', len(X_train))\n",
        "print('Samples in Validation Set:', len(X_val))\n",
        "print('Samples in Test Set:', len(X_test))"
      ]
    },
    {
      "cell_type": "code",
      "execution_count": 52,
      "metadata": {
        "colab": {
          "base_uri": "https://localhost:8080/"
        },
        "id": "ynhpNNtk6gbv",
        "outputId": "619b67a9-8ea2-4b55-c292-b7a2424eec86"
      },
      "outputs": [
        {
          "name": "stdout",
          "output_type": "stream",
          "text": [
            "Initial Dataset\n",
            "Percent \"stroke\": 0.048364551299972046\n",
            "Balanced Dataset\n",
            "Percent \"stroke\": 0.5\n"
          ]
        }
      ],
      "source": [
        "#SMOTE for class balancing\n",
        "sm = SMOTE(random_state=8)\n",
        "\n",
        "#create new training set with SMOTE object\n",
        "X_bal, y_bal = sm.fit_resample(X_train, y_train)\n",
        "\n",
        "#Displays perccent of each class\n",
        "print('Initial Dataset')\n",
        "print('Percent \"stroke\":', y_train.sum()/len(y_train))\n",
        "print('Balanced Dataset')\n",
        "print('Percent \"stroke\":', y_bal.sum()/len(y_bal))"
      ]
    },
    {
      "cell_type": "markdown",
      "metadata": {
        "id": "ZwyucZVe8XyM"
      },
      "source": [
        "### Model Building: Neural Networks"
      ]
    },
    {
      "cell_type": "code",
      "execution_count": 53,
      "metadata": {
        "colab": {
          "base_uri": "https://localhost:8080/"
        },
        "id": "wCpl2MYw6kd-",
        "outputId": "6649d2da-9e00-4e47-d729-a42cfab644b4"
      },
      "outputs": [
        {
          "name": "stdout",
          "output_type": "stream",
          "text": [
            "Model: \"stroke_predictor\"\n",
            "__________________________________________________________________________________________________\n",
            " Layer (type)                Output Shape                 Param #   Connected to                  \n",
            "==================================================================================================\n",
            " input_3 (InputLayer)        [(None, 21)]                 0         []                            \n",
            "                                                                                                  \n",
            " dense_14 (Dense)            (None, 64)                   1408      ['input_3[0][0]']             \n",
            "                                                                                                  \n",
            " dropout_12 (Dropout)        (None, 64)                   0         ['dense_14[0][0]']            \n",
            "                                                                                                  \n",
            " dense_15 (Dense)            (None, 128)                  8320      ['dropout_12[0][0]']          \n",
            "                                                                                                  \n",
            " dropout_13 (Dropout)        (None, 128)                  0         ['dense_15[0][0]']            \n",
            "                                                                                                  \n",
            " dense_16 (Dense)            (None, 256)                  33024     ['dropout_13[0][0]']          \n",
            "                                                                                                  \n",
            " dropout_14 (Dropout)        (None, 256)                  0         ['dense_16[0][0]']            \n",
            "                                                                                                  \n",
            " dense_17 (Dense)            (None, 128)                  32896     ['dropout_14[0][0]']          \n",
            "                                                                                                  \n",
            " dropout_15 (Dropout)        (None, 128)                  0         ['dense_17[0][0]']            \n",
            "                                                                                                  \n",
            " concatenate_2 (Concatenate  (None, 192)                  0         ['dense_14[0][0]',            \n",
            " )                                                                   'dropout_15[0][0]']          \n",
            "                                                                                                  \n",
            " dense_18 (Dense)            (None, 64)                   12352     ['concatenate_2[0][0]']       \n",
            "                                                                                                  \n",
            " dropout_16 (Dropout)        (None, 64)                   0         ['dense_18[0][0]']            \n",
            "                                                                                                  \n",
            " dense_19 (Dense)            (None, 32)                   2080      ['dropout_16[0][0]']          \n",
            "                                                                                                  \n",
            " dropout_17 (Dropout)        (None, 32)                   0         ['dense_19[0][0]']            \n",
            "                                                                                                  \n",
            " dense_20 (Dense)            (None, 1)                    33        ['dropout_17[0][0]']          \n",
            "                                                                                                  \n",
            "==================================================================================================\n",
            "Total params: 90113 (352.00 KB)\n",
            "Trainable params: 90113 (352.00 KB)\n",
            "Non-trainable params: 0 (0.00 Byte)\n",
            "__________________________________________________________________________________________________\n"
          ]
        }
      ],
      "source": [
        "#builds the architecture for a neural network\n",
        "#creates a dense network with 1 skip step\n",
        "inputs = keras.Input(shape=(21,))\n",
        "a = layers.Dense(64, activation='relu')(inputs)\n",
        "x = layers.Dropout(0.6)(a)\n",
        "x = layers.Dense(128, activation='relu')(x)\n",
        "x = layers.Dropout(0.6)(x)\n",
        "x = layers.Dense(256, activation='relu')(x)\n",
        "x = layers.Dropout(0.6)(x)\n",
        "x = layers.Dense(128, activation='relu')(x)\n",
        "x = layers.Dropout(0.6)(x)\n",
        "x = layers.concatenate([a, x])\n",
        "x = layers.Dense(64, activation='relu')(x)\n",
        "x = layers.Dropout(0.6)(x)\n",
        "x = layers.Dense(32, activation='relu')(x)\n",
        "x = layers.Dropout(0.6)(x)\n",
        "output = layers.Dense(1, activation='sigmoid')(x)\n",
        "\n",
        "nn = keras.Model(inputs, output, name=\"stroke_predictor\")\n",
        "nn.summary()"
      ]
    },
    {
      "cell_type": "code",
      "execution_count": 54,
      "metadata": {
        "id": "ScdDzNqC6vth"
      },
      "outputs": [],
      "source": [
        "#compiles the model with Adam optimizer\n",
        "nn.compile(optimizer=tf.optimizers.Adam(learning_rate=0.0001),\n",
        "            loss='binary_crossentropy', metrics=['accuracy'])\n",
        "early_stopper = EarlyStopping(monitor='val_loss', patience=30, restore_best_weights=True)\n",
        "\n",
        "#Trains the neural network\n",
        "history = nn.fit(X_bal, y_bal, epochs=1000, callbacks=[early_stopper], validation_data=(X_val, y_val), verbose=0)"
      ]
    },
    {
      "cell_type": "code",
      "execution_count": 55,
      "metadata": {
        "colab": {
          "base_uri": "https://localhost:8080/",
          "height": 895
        },
        "id": "o5h80xDw60yD",
        "outputId": "24ca659e-e499-4aa4-a8d9-451fa32288da"
      },
      "outputs": [
        {
          "data": {
            "image/png": "[encoded data removed]",
            "text/plain": [
              "<Figure size 2000x1000 with 2 Axes>"
            ]
          },
          "metadata": {},
          "output_type": "display_data"
        }
      ],
      "source": [
        "val_loss = history.history['val_loss']\n",
        "train_loss = history.history['loss']\n",
        "min_val_loss = round(history.history['val_loss'][-30], 2)\n",
        "min_train_loss = round(history.history['loss'][-30], 2)\n",
        "\n",
        "val_acc = history.history['val_accuracy']\n",
        "train_acc = history.history['accuracy']\n",
        "max_val_acc = round(history.history['val_accuracy'][-30], 2)\n",
        "max_train_acc = round(history.history['accuracy'][-30], 2)\n",
        "\n",
        "#plots the training vs validation loss and accuracy\n",
        "fig = plt.figure(figsize=(20, 10))\n",
        "\n",
        "ax1 = fig.add_subplot(121)\n",
        "ax2 = fig.add_subplot(122)\n",
        "\n",
        "\n",
        "ax1.set_title('Loss', {'font':'Serif', 'fontsize':20,'fontweight':'bold', 'color':'black'})\n",
        "ax1.set_xlabel('Epochs', {'font':'Serif', 'fontsize':16,'fontweight':'bold', 'color':'black'})\n",
        "ax1.plot(train_loss, label='Train')\n",
        "ax1.plot(val_loss, label='Validation')\n",
        "ax1.legend()\n",
        "fig.text(0.22, 0.23, 'Final Training Loss: ' + str(min_train_loss),\n",
        "         {'font':'Serif', 'fontsize':14,'fontweight':'bold', 'color':'black'})\n",
        "fig.text(0.22, 0.41, 'Final Validation Loss: ' + str(min_val_loss),\n",
        "         {'font':'Serif', 'fontsize':14,'fontweight':'bold', 'color':'black'})\n",
        "\n",
        "ax2.set_title('Accuracy', {'font':'Serif', 'fontsize':20,'fontweight':'bold', 'color':'black'})\n",
        "ax2.set_xlabel('Epochs', {'font':'Serif', 'fontsize':16,'fontweight':'bold', 'color':'black'})\n",
        "ax2.plot(train_acc, label='Train')\n",
        "ax2.plot(val_acc, label='Validation')\n",
        "ax2.legend()\n",
        "\n",
        "fig.text(0.61, 0.82, 'Final Training Accuracy: ' + str(max_train_acc),\n",
        "         {'font':'Serif', 'fontsize':14,'fontweight':'bold', 'color':'black'})\n",
        "fig.text(0.61, 0.72, 'Final Validation Accuracy: ' + str(max_val_acc),\n",
        "         {'font':'Serif', 'fontsize':14,'fontweight':'bold', 'color':'black'})\n",
        "\n",
        "fig.text(0.3,1, 'Neural Network Metrics Per Epoch', {'font':'Serif', 'fontsize':32,'fontweight':'bold', 'color':'black'})\n",
        "plt.show()"
      ]
    },
    {
      "cell_type": "code",
      "execution_count": 56,
      "metadata": {
        "colab": {
          "base_uri": "https://localhost:8080/"
        },
        "id": "m4QqFHCX675i",
        "outputId": "bc021f47-fae3-4266-d318-9d9d3fcf9f29"
      },
      "outputs": [
        {
          "name": "stdout",
          "output_type": "stream",
          "text": [
            "24/24 [==============================] - 0s 2ms/step\n",
            "Test Set Metrics\n",
            "Model Accuracy: 0.6792698826597132\n",
            "Model Recall: 0.7435897435897436\n",
            "Model Precision: 0.10943396226415095\n"
          ]
        }
      ],
      "source": [
        "#Display the metrics of the neural network on the test set\n",
        "test_preds = nn.predict(X_test)\n",
        "threshold = 0.25\n",
        "test_preds = [1. if i > threshold else 0. for i in test_preds]\n",
        "test_acc = accuracy_score(y_test, test_preds)\n",
        "test_rec = recall_score(y_test, test_preds)\n",
        "test_pre = precision_score(y_test, test_preds)\n",
        "print('Test Set Metrics')\n",
        "print('Model Accuracy:', test_acc)\n",
        "print('Model Recall:', test_rec)\n",
        "print('Model Precision:', test_pre)"
      ]
    },
    {
      "cell_type": "markdown",
      "metadata": {
        "id": "HSfq4IWW8j34"
      },
      "source": [
        "### Model Building: KNN"
      ]
    },
    {
      "cell_type": "code",
      "execution_count": 57,
      "metadata": {
        "colab": {
          "base_uri": "https://localhost:8080/"
        },
        "id": "uBqAT3RG83D5",
        "outputId": "c96de218-c6bb-4e21-aa36-437b82f9e4f2"
      },
      "outputs": [
        {
          "name": "stdout",
          "output_type": "stream",
          "text": [
            "Accuracy: 0.9478487614080835\n",
            "              precision    recall  f1-score   support\n",
            "\n",
            "           0       0.95      1.00      0.97       728\n",
            "           1       0.33      0.03      0.05        39\n",
            "\n",
            "    accuracy                           0.95       767\n",
            "   macro avg       0.64      0.51      0.51       767\n",
            "weighted avg       0.92      0.95      0.93       767\n",
            "\n"
          ]
        }
      ],
      "source": [
        "from sklearn.neighbors import KNeighborsClassifier\n",
        "knn = KNeighborsClassifier(n_neighbors=5)\n",
        "knn.fit(X_train, y_train)\n",
        "y_pred_knn = knn.predict(X_test)\n",
        "accuracy_knn = accuracy_score(y_test, y_pred_knn)\n",
        "print(f\"Accuracy: {accuracy_knn}\")\n",
        "\n",
        "print(classification_report(y_test, y_pred_knn))"
      ]
    },
    {
      "cell_type": "markdown",
      "metadata": {
        "id": "zFSQ69Wq-Vm0"
      },
      "source": [
        "### Model Building: SVM"
      ]
    },
    {
      "cell_type": "code",
      "execution_count": 58,
      "metadata": {
        "id": "3VPe7qEa-Y4w"
      },
      "outputs": [],
      "source": [
        "model_svm = SVC(kernel = 'linear', random_state = 0)\n",
        "model_svm.fit(X_train, y_train)\n",
        "y_pred_svm = model_svm.predict(X_test)"
      ]
    },
    {
      "cell_type": "code",
      "execution_count": 59,
      "metadata": {
        "colab": {
          "base_uri": "https://localhost:8080/"
        },
        "id": "YPawet5s-nJD",
        "outputId": "a7fc0415-e38b-477e-9807-c0d27e402e11"
      },
      "outputs": [
        {
          "name": "stdout",
          "output_type": "stream",
          "text": [
            "0.9491525423728814\n"
          ]
        }
      ],
      "source": [
        "accuracy_svm = accuracy_score(y_test, y_pred_svm)\n",
        "print(accuracy_svm)"
      ]
    },
    {
      "cell_type": "code",
      "execution_count": 60,
      "metadata": {
        "colab": {
          "base_uri": "https://localhost:8080/"
        },
        "id": "Z8i35Ktm-rS_",
        "outputId": "d16a373d-68fa-46f3-870d-cacab0ec46f0"
      },
      "outputs": [
        {
          "name": "stdout",
          "output_type": "stream",
          "text": [
            "              precision    recall  f1-score   support\n",
            "\n",
            "           0       0.95      1.00      0.97       728\n",
            "           1       0.00      0.00      0.00        39\n",
            "\n",
            "    accuracy                           0.95       767\n",
            "   macro avg       0.47      0.50      0.49       767\n",
            "weighted avg       0.90      0.95      0.92       767\n",
            "\n"
          ]
        },
        {
          "name": "stderr",
          "output_type": "stream",
          "text": [
            "/usr/local/lib/python3.10/dist-packages/sklearn/metrics/_classification.py:1344: UndefinedMetricWarning: Precision and F-score are ill-defined and being set to 0.0 in labels with no predicted samples. Use `zero_division` parameter to control this behavior.\n",
            "  _warn_prf(average, modifier, msg_start, len(result))\n",
            "/usr/local/lib/python3.10/dist-packages/sklearn/metrics/_classification.py:1344: UndefinedMetricWarning: Precision and F-score are ill-defined and being set to 0.0 in labels with no predicted samples. Use `zero_division` parameter to control this behavior.\n",
            "  _warn_prf(average, modifier, msg_start, len(result))\n",
            "/usr/local/lib/python3.10/dist-packages/sklearn/metrics/_classification.py:1344: UndefinedMetricWarning: Precision and F-score are ill-defined and being set to 0.0 in labels with no predicted samples. Use `zero_division` parameter to control this behavior.\n",
            "  _warn_prf(average, modifier, msg_start, len(result))\n"
          ]
        }
      ],
      "source": [
        "classification_rep_svm = classification_report(y_test, y_pred_svm)\n",
        "print(classification_rep_svm)"
      ]
    },
    {
      "cell_type": "markdown",
      "metadata": {
        "id": "Q3Tdlh7kAjjY"
      },
      "source": [
        "### Model Building : Random Forest Classifier"
      ]
    },
    {
      "cell_type": "code",
      "execution_count": 61,
      "metadata": {
        "colab": {
          "base_uri": "https://localhost:8080/"
        },
        "id": "mUADTYqvAxIs",
        "outputId": "8cf5e71b-5f7b-4cc0-c265-85bc57400746"
      },
      "outputs": [
        {
          "name": "stdout",
          "output_type": "stream",
          "text": [
            "Accuracy: 0.9478487614080835\n",
            "Confusion Matrix:\n",
            " [[727   1]\n",
            " [ 39   0]]\n",
            "Classification Report:\n",
            "               precision    recall  f1-score   support\n",
            "\n",
            "           0       0.95      1.00      0.97       728\n",
            "           1       0.00      0.00      0.00        39\n",
            "\n",
            "    accuracy                           0.95       767\n",
            "   macro avg       0.47      0.50      0.49       767\n",
            "weighted avg       0.90      0.95      0.92       767\n",
            "\n"
          ]
        }
      ],
      "source": [
        "rf_classifier = RandomForestClassifier(n_estimators=100, random_state=42)\n",
        "\n",
        "rf_classifier.fit(X_train, y_train)\n",
        "Y_pred_rf = rf_classifier.predict(X_test)\n",
        "\n",
        "accuracy = accuracy_score(y_test, Y_pred_rf)\n",
        "confusion = confusion_matrix(y_test, Y_pred_rf)\n",
        "classification_rep = classification_report(y_test, Y_pred_rf)\n",
        "\n",
        "print(\"Accuracy:\", accuracy)\n",
        "print(\"Confusion Matrix:\\n\", confusion)\n",
        "print(\"Classification Report:\\n\", classification_rep)"
      ]
    }
  ],
  "metadata": {
    "colab": {
      "provenance": []
    },
    "kernelspec": {
      "display_name": "Python 3",
      "name": "python3"
    },
    "language_info": {
      "codemirror_mode": {
        "name": "ipython",
        "version": 3
      },
      "file_extension": ".py",
      "mimetype": "text/x-python",
      "name": "python",
      "nbconvert_exporter": "python",
      "pygments_lexer": "ipython3",
      "version": "3.11.4"
    }
  },
  "nbformat": 4,
  "nbformat_minor": 0
}
